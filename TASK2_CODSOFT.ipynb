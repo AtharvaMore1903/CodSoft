{
 "cells": [
  {
   "cell_type": "markdown",
   "metadata": {
    "id": "aDVHHBaAfo8N"
   },
   "source": [
    "\n",
    "▶**TASK-2 : MOVIE RATING PREDICTION**\n",
    "\n",
    "> Author: Atharva More\n",
    "\n",
    "> Batch: A19\n",
    "\n",
    "> Domain: Data Science\n",
    "\n",
    "\n",
    "\n",
    "\n",
    "\n",
    "\n",
    "\n"
   ]
  },
  {
   "cell_type": "markdown",
   "metadata": {
    "id": "wqw0CHGHgfbS"
   },
   "source": [
    "*IMPORTING IMPORTANT LIBRARIES*"
   ]
  },
  {
   "cell_type": "code",
   "execution_count": null,
   "metadata": {
    "id": "R-7qL25Kfl_U"
   },
   "outputs": [],
   "source": [
    "import numpy as np\n",
    "import pandas as pd\n",
    "import matplotlib.pyplot as plt\n",
    "import seaborn as sns"
   ]
  },
  {
   "cell_type": "markdown",
   "metadata": {
    "id": "G9OXETk8iq1Y"
   },
   "source": [
    "*DOWNLOADING DATASETS*\n",
    "\n",
    "\n",
    "> **Movie_data**\n",
    "\n",
    "\n",
    "\n"
   ]
  },
  {
   "cell_type": "code",
   "execution_count": null,
   "metadata": {
    "colab": {
     "base_uri": "https://localhost:8080/",
     "height": 206
    },
    "id": "MIvhVNggXDk7",
    "outputId": "d2c13aa1-6ddf-4f6c-9c95-476076db9437"
   },
   "outputs": [],
   "source": [
    "df_movie=pd.read_csv('/content/Movie_preprocessed.csv',sep=\"::\",engine='python')\n",
    "df_movie.dropna(inplace=True)\n",
    "df_movie.head()"
   ]
  },
  {
   "cell_type": "code",
   "execution_count": null,
   "metadata": {
    "colab": {
     "base_uri": "https://localhost:8080/"
    },
    "id": "OlwUsxGw924X",
    "outputId": "97e87848-23fb-4f63-c9ca-9e84e82c490f"
   },
   "outputs": [],
   "source": [
    "df_movie.shape"
   ]
  },
  {
   "cell_type": "code",
   "execution_count": null,
   "metadata": {
    "colab": {
     "base_uri": "https://localhost:8080/",
     "height": 175
    },
    "id": "div7pXpCBvrX",
    "outputId": "48fc69bd-bf31-4cd2-c84a-ae1e3b759850"
   },
   "outputs": [],
   "source": [
    "df_movie.describe()"
   ]
  },
  {
   "cell_type": "code",
   "execution_count": null,
   "metadata": {
    "colab": {
     "base_uri": "https://localhost:8080/"
    },
    "id": "XlxkmIbs6F9S",
    "outputId": "1ca5ba98-9ad3-4861-fc19-499781bb1a7e"
   },
   "outputs": [],
   "source": [
    "df_movie.isna().sum()"
   ]
  },
  {
   "cell_type": "markdown",
   "metadata": {
    "id": "LobZEZoXjHNU"
   },
   "source": [
    "*DOWNLOADING DATASETS*\n",
    "\n",
    "\n",
    "> **ratings_data**"
   ]
  },
  {
   "cell_type": "code",
   "execution_count": null,
   "metadata": {
    "colab": {
     "base_uri": "https://localhost:8080/",
     "height": 363
    },
    "id": "rMqUn4r-tN4j",
    "outputId": "cfd32fe0-8bcc-4ec1-f1fd-2e6c70deb35f"
   },
   "outputs": [],
   "source": [
    "df_ratings=pd.read_csv(\"/content/ratings_preprocessed.csv\", sep=\"::\", engine=\"python\")\n",
    "df_ratings.dropna(inplace=True)\n",
    "df_ratings.head(10)"
   ]
  },
  {
   "cell_type": "code",
   "execution_count": null,
   "metadata": {
    "colab": {
     "base_uri": "https://localhost:8080/"
    },
    "id": "lKsBNiwb7CO2",
    "outputId": "1c7bc148-1827-4958-d3cb-1c1ae0ba65ac"
   },
   "outputs": [],
   "source": [
    "df_ratings.shape"
   ]
  },
  {
   "cell_type": "code",
   "execution_count": null,
   "metadata": {
    "colab": {
     "base_uri": "https://localhost:8080/",
     "height": 300
    },
    "id": "rA9vr4cavJvY",
    "outputId": "105562c7-9728-40f0-d210-77becfc6a6fe"
   },
   "outputs": [],
   "source": [
    "df_ratings.describe()"
   ]
  },
  {
   "cell_type": "code",
   "execution_count": null,
   "metadata": {
    "colab": {
     "base_uri": "https://localhost:8080/"
    },
    "id": "JGq2KfAB6CW_",
    "outputId": "438e5850-2258-4f94-a02f-fd8c40d347cd"
   },
   "outputs": [],
   "source": [
    "df_ratings.isna().sum()"
   ]
  },
  {
   "cell_type": "markdown",
   "metadata": {
    "id": "Me0cZOgwjKs2"
   },
   "source": [
    "*DOWNLOADING DATASETS*\n",
    "\n",
    "\n",
    "> **Users_data**"
   ]
  },
  {
   "cell_type": "code",
   "execution_count": null,
   "metadata": {
    "colab": {
     "base_uri": "https://localhost:8080/",
     "height": 363
    },
    "id": "jF4Aiqf1zQzj",
    "outputId": "c5a9ef90-ec02-47f7-ff47-37a188215118"
   },
   "outputs": [],
   "source": [
    "df_users=pd.read_csv(\"/content/users_preprocessed.csv\", sep=\"::\", engine=\"python\")\n",
    "df_users.dropna(inplace=True)\n",
    "df_users.head(10)"
   ]
  },
  {
   "cell_type": "code",
   "execution_count": null,
   "metadata": {
    "colab": {
     "base_uri": "https://localhost:8080/"
    },
    "id": "bIgU2Rhj7KBJ",
    "outputId": "c41469c4-6985-4ad0-f503-50779e2c4171"
   },
   "outputs": [],
   "source": [
    "df_users.shape"
   ]
  },
  {
   "cell_type": "code",
   "execution_count": null,
   "metadata": {
    "colab": {
     "base_uri": "https://localhost:8080/",
     "height": 300
    },
    "id": "DBjflG-ojdky",
    "outputId": "1609d8ec-db4c-466c-e23c-40988838569f"
   },
   "outputs": [],
   "source": [
    "df_users.describe()"
   ]
  },
  {
   "cell_type": "code",
   "execution_count": null,
   "metadata": {
    "colab": {
     "base_uri": "https://localhost:8080/",
     "height": 206
    },
    "id": "jV2MnGYc5CPz",
    "outputId": "22b1075f-dff9-4d3c-c6a9-a80a487afa26"
   },
   "outputs": [],
   "source": [
    "from sklearn.preprocessing import LabelEncoder\n",
    "labelencoder = LabelEncoder()\n",
    "\n",
    "df_users['Gender']= labelencoder.fit_transform(df_users['Gender'])\n",
    "\n",
    "df_users.head()"
   ]
  },
  {
   "cell_type": "code",
   "execution_count": null,
   "metadata": {
    "colab": {
     "base_uri": "https://localhost:8080/"
    },
    "id": "9YpqhRLq59Cz",
    "outputId": "dbb95eed-3c3a-4fe9-bdf7-b2f34237a903"
   },
   "outputs": [],
   "source": [
    "df_users.isna().sum()"
   ]
  },
  {
   "cell_type": "markdown",
   "metadata": {
    "id": "6LH6yDRTjjD5"
   },
   "source": [
    "> ***CONCATENATING THE DATASETS***"
   ]
  },
  {
   "cell_type": "code",
   "execution_count": null,
   "metadata": {
    "colab": {
     "base_uri": "https://localhost:8080/",
     "height": 363
    },
    "id": "wnhJBkH40ZD-",
    "outputId": "e38e1ad0-2dd1-4a90-aa0c-e5dc99f7688e"
   },
   "outputs": [],
   "source": [
    "df_data=pd.concat([df_movie,df_ratings,df_users],axis=1)\n",
    "df_data.dropna()\n",
    "df_data.head(10)"
   ]
  },
  {
   "cell_type": "code",
   "execution_count": null,
   "metadata": {
    "colab": {
     "base_uri": "https://localhost:8080/"
    },
    "id": "CGFh8YWU4UOW",
    "outputId": "7ca11420-76b4-4abe-c4b3-0ad392580413"
   },
   "outputs": [],
   "source": [
    "df_data.shape"
   ]
  },
  {
   "cell_type": "markdown",
   "metadata": {
    "id": "vuhCFocbj643"
   },
   "source": [
    "***REMOVING UNNECESSARY COLUMNS***"
   ]
  },
  {
   "cell_type": "code",
   "execution_count": null,
   "metadata": {
    "colab": {
     "base_uri": "https://localhost:8080/",
     "height": 206
    },
    "id": "cjns7hqi8u0t",
    "outputId": "5a84c241-be38-4662-e02a-c5d861df8d09"
   },
   "outputs": [],
   "source": [
    "df2=df_data.drop([\"Occupation\",\"Zip-code\",\"Timestamp\"],axis=1)\n",
    "df2.head()"
   ]
  },
  {
   "cell_type": "code",
   "execution_count": null,
   "metadata": {
    "colab": {
     "base_uri": "https://localhost:8080/",
     "height": 300
    },
    "id": "e1mfoiEmADQw",
    "outputId": "9feae1b0-a6ae-4bf7-8d8f-4e49d46633b3"
   },
   "outputs": [],
   "source": [
    "df2.describe()"
   ]
  },
  {
   "cell_type": "code",
   "execution_count": null,
   "metadata": {
    "colab": {
     "base_uri": "https://localhost:8080/"
    },
    "id": "h80IdQ-LP1AO",
    "outputId": "d4b32121-d012-4683-fb22-fcb762b80050"
   },
   "outputs": [],
   "source": [
    "df2.isna().sum()"
   ]
  },
  {
   "cell_type": "markdown",
   "metadata": {
    "id": "VJSXarpSQ4_2"
   },
   "source": [
    "***handling missing values***\n"
   ]
  },
  {
   "cell_type": "code",
   "execution_count": null,
   "metadata": {
    "id": "bz75Ta5nXBB1"
   },
   "outputs": [],
   "source": [
    "df_final=df2.dropna()"
   ]
  },
  {
   "cell_type": "code",
   "execution_count": null,
   "metadata": {
    "colab": {
     "base_uri": "https://localhost:8080/"
    },
    "id": "UUZrAyaUXBEB",
    "outputId": "3f71eefd-a5e1-4cf4-a5c6-ea5872c9f57a"
   },
   "outputs": [],
   "source": [
    "df_final.shape"
   ]
  },
  {
   "cell_type": "code",
   "execution_count": null,
   "metadata": {
    "id": "-l-zUQbKXBTM"
   },
   "outputs": [],
   "source": []
  },
  {
   "cell_type": "markdown",
   "metadata": {
    "id": "PU0embSlkTcC"
   },
   "source": [
    "***VISULAZING THE PREPROCESSED DATA***"
   ]
  },
  {
   "cell_type": "code",
   "execution_count": null,
   "metadata": {
    "colab": {
     "base_uri": "https://localhost:8080/",
     "height": 466
    },
    "id": "QrROqIUt9Voy",
    "outputId": "30080c85-016b-4b6c-9c50-b2efc37241da"
   },
   "outputs": [],
   "source": [
    "sns.countplot(x=df_final['Gender'],hue=df_final['Ratings'])"
   ]
  },
  {
   "cell_type": "code",
   "execution_count": null,
   "metadata": {
    "colab": {
     "base_uri": "https://localhost:8080/",
     "height": 466
    },
    "id": "9Lr4IeRcBKwe",
    "outputId": "42f467dc-153d-4b09-a04e-470bb8472f0c"
   },
   "outputs": [],
   "source": [
    "df_final.Age.plot.hist(bins=25)\n",
    "plt.ylabel(\"MovieIds\")\n",
    "plt.xlabel(\"Ratings\")"
   ]
  },
  {
   "cell_type": "code",
   "execution_count": null,
   "metadata": {
    "id": "XlBftzw9jHrD"
   },
   "outputs": [],
   "source": []
  },
  {
   "cell_type": "code",
   "execution_count": null,
   "metadata": {
    "colab": {
     "base_uri": "https://localhost:8080/",
     "height": 425
    },
    "id": "ybHGHK7vqNUa",
    "outputId": "c0851500-f19e-4e86-8aca-9cd7afef8fef"
   },
   "outputs": [],
   "source": [
    "df_final['Ratings'].value_counts().plot(kind='bar')\n",
    "plt.show()"
   ]
  },
  {
   "cell_type": "code",
   "execution_count": null,
   "metadata": {
    "colab": {
     "base_uri": "https://localhost:8080/",
     "height": 466
    },
    "id": "qz3bnHZCqsqG",
    "outputId": "6d85d15a-60e7-4d93-f529-373ed35943e8"
   },
   "outputs": [],
   "source": [
    "df_final['MovieID'].plot.hist(bins=25)\n",
    "plt.xlabel(\"MovieIs\")\n",
    "plt.ylabel(\"Ratings\")"
   ]
  },
  {
   "cell_type": "code",
   "execution_count": null,
   "metadata": {
    "colab": {
     "base_uri": "https://localhost:8080/",
     "height": 447
    },
    "id": "HSSJWyqN675C",
    "outputId": "b2e986f3-8ae3-4973-981f-ce8af9cffda5"
   },
   "outputs": [],
   "source": [
    "df_final['Age'].plot.hist(bins=10)\n",
    "# plt.xlabel(\"Ratings\")\n",
    "# plt.ylabel(\"Age\")"
   ]
  },
  {
   "cell_type": "code",
   "execution_count": null,
   "metadata": {
    "colab": {
     "base_uri": "https://localhost:8080/",
     "height": 466
    },
    "id": "GuAVML7p8OWG",
    "outputId": "38a0cb56-bd1d-4e34-bd57-d5e6f7db8c86"
   },
   "outputs": [],
   "source": [
    "sns.countplot(x=df_final['Age'],hue=df_final['Ratings'])"
   ]
  },
  {
   "cell_type": "markdown",
   "metadata": {
    "id": "uHQiEt7ikdKN"
   },
   "source": [
    "***FINAL DATASET***"
   ]
  },
  {
   "cell_type": "code",
   "execution_count": null,
   "metadata": {
    "colab": {
     "base_uri": "https://localhost:8080/",
     "height": 206
    },
    "id": "e7OYan_sbe5p",
    "outputId": "ae7a6e8b-afb3-45fa-e6f8-fa65178edd51"
   },
   "outputs": [],
   "source": [
    "df_final.head()"
   ]
  },
  {
   "cell_type": "code",
   "execution_count": null,
   "metadata": {
    "id": "VB9Uq1LD-RQ0"
   },
   "outputs": [],
   "source": [
    "input=df_final.drop(['Ratings','MovieName','Genre','MovieIDs'], axis=1)\n",
    "target=df_final['Ratings']"
   ]
  },
  {
   "cell_type": "code",
   "execution_count": null,
   "metadata": {
    "colab": {
     "base_uri": "https://localhost:8080/",
     "height": 206
    },
    "id": "nDSXg7Hg-w5q",
    "outputId": "f2b7ea08-2b89-440b-a930-35ad7162df24"
   },
   "outputs": [],
   "source": [
    "target.head()"
   ]
  },
  {
   "cell_type": "code",
   "execution_count": null,
   "metadata": {
    "colab": {
     "base_uri": "https://localhost:8080/",
     "height": 206
    },
    "id": "7XuhHNwsZwDc",
    "outputId": "a12db6b5-8d94-4fd9-8566-afa0c335554b"
   },
   "outputs": [],
   "source": [
    "input.head()"
   ]
  },
  {
   "cell_type": "markdown",
   "metadata": {
    "id": "YYhWW1q9ki99"
   },
   "source": [
    "***TRAINING THE MODEL USING LOGISTIC REGRESSION***"
   ]
  },
  {
   "cell_type": "code",
   "execution_count": null,
   "metadata": {
    "colab": {
     "base_uri": "https://localhost:8080/",
     "height": 206
    },
    "id": "X0JHCNtHbmZP",
    "outputId": "5509d64b-26fd-48c4-af0b-27582e3d0fc9"
   },
   "outputs": [],
   "source": [
    "from sklearn.preprocessing import MinMaxScaler\n",
    "\n",
    "scaler = MinMaxScaler()\n",
    "scaled_data = scaler.fit_transform(input)\n",
    "scaled_df = pd.DataFrame(scaled_data,\n",
    "                         columns=input.columns)\n",
    "scaled_df.head()"
   ]
  },
  {
   "cell_type": "code",
   "execution_count": null,
   "metadata": {
    "id": "-QI3FmGX9AB1"
   },
   "outputs": [],
   "source": [
    "from sklearn.model_selection import train_test_split\n",
    "X_train, X_test, Y_train, Y_test=train_test_split(input,target,test_size=0.3)"
   ]
  },
  {
   "cell_type": "code",
   "execution_count": null,
   "metadata": {
    "id": "QtT2uBwhZDOq"
   },
   "outputs": [],
   "source": [
    "print(Y_train)"
   ]
  },
  {
   "cell_type": "code",
   "execution_count": null,
   "metadata": {
    "id": "Q4DSkT8FaKf-"
   },
   "outputs": [],
   "source": [
    "print(Y_test)"
   ]
  },
  {
   "cell_type": "code",
   "execution_count": null,
   "metadata": {
    "colab": {
     "base_uri": "https://localhost:8080/",
     "height": 213
    },
    "id": "kNlTJ4JS_Jw_",
    "outputId": "90532428-4e1d-4e20-c8e3-06df7e5c879d"
   },
   "outputs": [],
   "source": [
    "from sklearn.linear_model import LogisticRegression\n",
    "model = LogisticRegression()\n",
    "model.fit(X_train,Y_train)"
   ]
  },
  {
   "cell_type": "code",
   "execution_count": null,
   "metadata": {
    "id": "qtt3nQI8_hzq"
   },
   "outputs": [],
   "source": [
    "X_test = np.array(X_test)\n"
   ]
  },
  {
   "cell_type": "markdown",
   "metadata": {
    "id": "pb8CIp_WksBL"
   },
   "source": [
    "***MODEL PREDICTION***"
   ]
  },
  {
   "cell_type": "code",
   "execution_count": null,
   "metadata": {
    "colab": {
     "base_uri": "https://localhost:8080/"
    },
    "id": "qiCY8KCdd5yH",
    "outputId": "5287cd2c-a80f-4a18-c670-d63a778533e0"
   },
   "outputs": [],
   "source": [
    "model.predict(X_test)"
   ]
  },
  {
   "cell_type": "code",
   "execution_count": null,
   "metadata": {
    "id": "GMOXKpa5d8O3"
   },
   "outputs": [],
   "source": []
  }
 ],
 "metadata": {
  "colab": {
   "provenance": []
  },
  "kernelspec": {
   "display_name": "Python 3 (ipykernel)",
   "language": "python",
   "name": "python3"
  },
  "language_info": {
   "codemirror_mode": {
    "name": "ipython",
    "version": 3
   },
   "file_extension": ".py",
   "mimetype": "text/x-python",
   "name": "python",
   "nbconvert_exporter": "python",
   "pygments_lexer": "ipython3",
   "version": "3.11.5"
  }
 },
 "nbformat": 4,
 "nbformat_minor": 1
}
